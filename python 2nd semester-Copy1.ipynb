{
 "cells": [
  {
   "cell_type": "code",
   "execution_count": 8,
   "metadata": {},
   "outputs": [
    {
     "name": "stdout",
     "output_type": "stream",
     "text": [
      "Enter the side:4\n",
      "area: 16\n"
     ]
    }
   ],
   "source": [
    "# Area of a square\n",
    "side=int(input(\"Enter the side:\"))\n",
    "area=side*side\n",
    "print(\"area: {}\".format(area))"
   ]
  },
  {
   "cell_type": "code",
   "execution_count": 9,
   "metadata": {},
   "outputs": [
    {
     "name": "stdout",
     "output_type": "stream",
     "text": [
      "value of l:6\n",
      "value of w:7\n",
      " The Surface Area of a rectangle = 42.00 \n"
     ]
    }
   ],
   "source": [
    "# Area of a rectangle\n",
    "length = float(input('value of l:'))\n",
    "width = float(input('value of w:'))\n",
    "Area = width * length\n",
    "print(\" The Surface Area of a rectangle = %.2f \" %Area)"
   ]
  },
  {
   "cell_type": "code",
   "execution_count": 10,
   "metadata": {},
   "outputs": [
    {
     "name": "stdout",
     "output_type": "stream",
     "text": [
      "value of h:8\n",
      "value of b:7\n",
      " The Surface Area of a triangle = 28.00 \n"
     ]
    }
   ],
   "source": [
    "# Area of a triangle\n",
    "height = float(input('value of h:'))\n",
    "breadth = float(input('value of b:'))\n",
    "Area = 1 / 2 * breadth  * height\n",
    "print(\" The Surface Area of a triangle = %.2f \" %Area)"
   ]
  },
  {
   "cell_type": "code",
   "execution_count": 11,
   "metadata": {},
   "outputs": [
    {
     "name": "stdout",
     "output_type": "stream",
     "text": [
      "Please Enter the First Base of a Trapezoid: 7\n",
      "Please Enter the Second Base of a Trapezoid: 6\n",
      "Please Enter the Height of a Trapezoid: 6\n",
      "\n",
      " Area of a Trapezium = 39.00 \n"
     ]
    }
   ],
   "source": [
    "# Area of a Trapezoid\n",
    "\n",
    "base1 = float(input('Please Enter the First Base of a Trapezoid: '))\n",
    "base2 = float(input('Please Enter the Second Base of a Trapezoid: '))\n",
    "height = float(input('Please Enter the Height of a Trapezoid: '))\n",
    "\n",
    "# calculate the area\n",
    "Area = 0.5 * (base1 + base2) * height\n",
    "\n",
    "print(\"\\n Area of a Trapezium = %.2f \" %Area)"
   ]
  },
  {
   "cell_type": "code",
   "execution_count": 12,
   "metadata": {},
   "outputs": [
    {
     "name": "stdout",
     "output_type": "stream",
     "text": [
      "value of r:78\n",
      "19103.760000000002\n"
     ]
    }
   ],
   "source": [
    "# Area of a circle\n",
    "\n",
    "radius = int(input('value of r:'))\n",
    "pie = 3.14\n",
    "area = pie * radius * radius\n",
    "\n",
    "print (area)"
   ]
  },
  {
   "cell_type": "code",
   "execution_count": 13,
   "metadata": {},
   "outputs": [
    {
     "name": "stdout",
     "output_type": "stream",
     "text": [
      "Enter the radius:6\n",
      "circumference: 37.68\n"
     ]
    }
   ],
   "source": [
    "# Circumference of a Circle\n",
    "\n",
    "r=int(input(\"Enter the radius:\"))\n",
    "area=2*3.14*r\n",
    "\n",
    "print(\"circumference: {}\".format(area))"
   ]
  },
  {
   "cell_type": "code",
   "execution_count": 14,
   "metadata": {},
   "outputs": [
    {
     "name": "stdout",
     "output_type": "stream",
     "text": [
      "value of a:5\n",
      " The Surface Area of a cube = 150.00 \n"
     ]
    }
   ],
   "source": [
    "# Area of a cube\n",
    "A = float(input('value of a:'))\n",
    "Area = 6 * A * A\n",
    "print(\" The Surface Area of a cube = %.2f \" %Area)"
   ]
  },
  {
   "cell_type": "code",
   "execution_count": 15,
   "metadata": {},
   "outputs": [
    {
     "name": "stdout",
     "output_type": "stream",
     "text": [
      "Height of cylinder: 9\n",
      "Radius of cylinder: 7\n",
      "Surface Area is:  704.0\n"
     ]
    }
   ],
   "source": [
    "# Curved Surface Area of a Cylinder\n",
    "\n",
    "pi=22/7\n",
    "height = float(input('Height of cylinder: '))\n",
    "radian = float(input('Radius of cylinder: '))\n",
    "surface_area = ((2*pi*radian) * height) + ((pi*radian**2)*2)\n",
    "\n",
    "print(\"Surface Area is: \", surface_area)"
   ]
  },
  {
   "cell_type": "code",
   "execution_count": 6,
   "metadata": {},
   "outputs": [
    {
     "name": "stdout",
     "output_type": "stream",
     "text": [
      "Height of cylinder: 5\n",
      "Radius of cylinder: 6\n",
      "Total Surface Area is: 48.714285714285715\n"
     ]
    }
   ],
   "source": [
    "# Total Surface Area of a Cylinder\n",
    "pi = 22/7\n",
    "height = float(input('Height of cylinder: '))\n",
    "radian = float(input('Radius of cylinder: '))\n",
    "Total_Surface_Area = ((2*pi*radian)) + ((radian+height))\n",
    "\n",
    "print(\"Total Surface Area is:\", Total_Surface_Area)"
   ]
  },
  {
   "cell_type": "code",
   "execution_count": 16,
   "metadata": {},
   "outputs": [
    {
     "name": "stdout",
     "output_type": "stream",
     "text": [
      "Height of cylinder: 7\n",
      "Radius of cylinder: 8\n",
      "Volume is:  1408.0\n"
     ]
    }
   ],
   "source": [
    "# Volume of a Cylinder\n",
    "\n",
    "pi=22/7\n",
    "height = float(input('Height of cylinder: '))\n",
    "radian = float(input('Radius of cylinder: '))\n",
    "volume = pi * radian * radian * height\n",
    "\n",
    "print(\"Volume is: \", volume)"
   ]
  },
  {
   "cell_type": "code",
   "execution_count": 17,
   "metadata": {},
   "outputs": [
    {
     "name": "stdout",
     "output_type": "stream",
     "text": [
      "final velocity: 6\n",
      "initial velocity:7\n",
      "time6\n",
      "Acceleration is:  -0.16666666666666666\n"
     ]
    }
   ],
   "source": [
    "# Acceleration Formula\n",
    "\n",
    "V = int(input('final velocity: '))\n",
    "U = int(input('initial velocity:'))\n",
    "T = int(input('time'))\n",
    "Acceleration = (V-U)/T\n",
    "\n",
    "print(\"Acceleration is: \", Acceleration)"
   ]
  },
  {
   "cell_type": "code",
   "execution_count": 18,
   "metadata": {},
   "outputs": [
    {
     "name": "stdout",
     "output_type": "stream",
     "text": [
      "mass:7\n",
      "volume:8\n",
      "Density is:  0.875\n"
     ]
    }
   ],
   "source": [
    "# Formula for Density\n",
    "\n",
    "M = int(input('mass:'))\n",
    "V = int(input('volume:'))\n",
    "Density = M/V\n",
    "\n",
    "print(\"Density is: \", Density)"
   ]
  },
  {
   "cell_type": "code",
   "execution_count": 19,
   "metadata": {},
   "outputs": [
    {
     "name": "stdout",
     "output_type": "stream",
     "text": [
      "force applied:9\n",
      "total area of the object:5\n",
      "Pressure is:  1.8\n"
     ]
    }
   ],
   "source": [
    "# Formula for Pressure\n",
    "\n",
    "F = int(input('force applied:'))\n",
    "A = int(input('total area of the object:'))\n",
    "Pressure = F/A\n",
    "\n",
    "print(\"Pressure is: \", Pressure)"
   ]
  },
  {
   "cell_type": "code",
   "execution_count": 7,
   "metadata": {},
   "outputs": [
    {
     "name": "stdout",
     "output_type": "stream",
     "text": [
      "mass:6\n",
      "velocity:5\n",
      "Kinetic_Energy is:  75.0\n"
     ]
    }
   ],
   "source": [
    "# Formula for Kinetic energy\n",
    "\n",
    "M = int(input('mass:'))\n",
    "V = int(input('velocity:'))\n",
    "Kinetic_Energy = 1/2*M*V*V\n",
    "\n",
    "print(\"Kinetic_Energy is: \", Kinetic_Energy)\n"
   ]
  },
  {
   "cell_type": "code",
   "execution_count": 22,
   "metadata": {},
   "outputs": [
    {
     "name": "stdout",
     "output_type": "stream",
     "text": [
      "current:7\n",
      "resistance8\n",
      "Voltage is:  56\n"
     ]
    }
   ],
   "source": [
    "# Formula for Voltage\n",
    "\n",
    "I = int(input('current:'))\n",
    "R = int(input('resistance'))\n",
    "Voltage = I*R\n",
    "\n",
    "print(\"Voltage is: \", Voltage)"
   ]
  },
  {
   "cell_type": "code",
   "execution_count": null,
   "metadata": {},
   "outputs": [],
   "source": []
  }
 ],
 "metadata": {
  "kernelspec": {
   "display_name": "Python 3",
   "language": "python",
   "name": "python3"
  },
  "language_info": {
   "codemirror_mode": {
    "name": "ipython",
    "version": 3
   },
   "file_extension": ".py",
   "mimetype": "text/x-python",
   "name": "python",
   "nbconvert_exporter": "python",
   "pygments_lexer": "ipython3",
   "version": "3.7.4"
  }
 },
 "nbformat": 4,
 "nbformat_minor": 2
}

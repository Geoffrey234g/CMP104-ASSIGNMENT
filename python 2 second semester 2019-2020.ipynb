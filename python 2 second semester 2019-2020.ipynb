{
 "cells": [
  {
   "cell_type": "code",
   "execution_count": 3,
   "metadata": {},
   "outputs": [
    {
     "name": "stdout",
     "output_type": "stream",
     "text": [
      "Enter the side:4\n",
      "area 16\n"
     ]
    }
   ],
   "source": [
    "# Area of a square\n",
    "def square():\n",
    "    side = int(input(\"Enter the side:\"))\n",
    "    area = side*side\n",
    "    print(\"area\", area)\n",
    "square()"
   ]
  },
  {
   "cell_type": "code",
   "execution_count": 4,
   "metadata": {},
   "outputs": [
    {
     "name": "stdout",
     "output_type": "stream",
     "text": [
      "value of l:4\n",
      "value of w:5\n",
      " The Surface Area of a rectangle = 20.00 \n"
     ]
    }
   ],
   "source": [
    "# Area of a rectangle\n",
    "def rectangle():\n",
    "    length = float(input('value of l:'))\n",
    "    width = float(input('value of w:'))\n",
    "    Area = width * length\n",
    "    print(\" The Surface Area of a rectangle = %.2f \" %Area)\n",
    "rectangle()"
   ]
  },
  {
   "cell_type": "code",
   "execution_count": 5,
   "metadata": {},
   "outputs": [
    {
     "name": "stdout",
     "output_type": "stream",
     "text": [
      "value of h:4\n",
      "value of b:6\n",
      " The Surface Area of a triangle = 12.00 \n"
     ]
    }
   ],
   "source": [
    "# Area of a triangle\n",
    "def triangle():\n",
    "    height = float(input('value of h:'))\n",
    "    breadth = float(input('value of b:'))\n",
    "    Area = 1 / 2 * breadth  * height\n",
    "    print(\" The Surface Area of a triangle = %.2f \" %Area)\n",
    "triangle()"
   ]
  },
  {
   "cell_type": "code",
   "execution_count": 6,
   "metadata": {},
   "outputs": [
    {
     "name": "stdout",
     "output_type": "stream",
     "text": [
      "Please Enter the First Base of a Trapezoid: 6\n",
      "Please Enter the Second Base of a Trapezoid: 7\n",
      "Please Enter the Height of a Trapezoid: 8\n",
      "\n",
      " Area of a Trapezium = 52.00 \n"
     ]
    }
   ],
   "source": [
    "# Area of a Trapezoid\n",
    "def trapezoid():\n",
    "    base1 = float(input('Please Enter the First Base of a Trapezoid: '))\n",
    "    base2 = float(input('Please Enter the Second Base of a Trapezoid: '))\n",
    "    height = float(input('Please Enter the Height of a Trapezoid: '))\n",
    "\n",
    "    # calculate the area\n",
    "    Area = 0.5 * (base1 + base2) * height\n",
    "\n",
    "    print(\"\\n Area of a Trapezium = %.2f \" %Area)\n",
    "trapezoid()"
   ]
  },
  {
   "cell_type": "code",
   "execution_count": 8,
   "metadata": {},
   "outputs": [
    {
     "name": "stdout",
     "output_type": "stream",
     "text": [
      "value of r:4\n",
      "area 50.24\n"
     ]
    }
   ],
   "source": [
    "# Area of a circle\n",
    "def circle():\n",
    "    radius = int(input('value of r:'))\n",
    "    pie = 3.14\n",
    "    area = pie * radius * radius\n",
    "\n",
    "    print (\"area\", area)\n",
    "circle()"
   ]
  },
  {
   "cell_type": "code",
   "execution_count": 9,
   "metadata": {},
   "outputs": [
    {
     "name": "stdout",
     "output_type": "stream",
     "text": [
      "Enter the radius:5\n",
      "circumference: 31.400000000000002\n"
     ]
    }
   ],
   "source": [
    "# Circumference of a Circle\n",
    "def circumference_of_a_circle():\n",
    "    r=int(input(\"Enter the radius:\"))\n",
    "    area=2*3.14*r\n",
    "\n",
    "    print(\"circumference: {}\".format(area))\n",
    "circumference_of_a_circle()"
   ]
  },
  {
   "cell_type": "code",
   "execution_count": 10,
   "metadata": {},
   "outputs": [
    {
     "name": "stdout",
     "output_type": "stream",
     "text": [
      "value of a:5\n",
      " The Surface Area of a cube = 150.00 \n"
     ]
    }
   ],
   "source": [
    "# Area of a cube\n",
    "def cube():\n",
    "    A = float(input('value of a:'))\n",
    "    Area = 6 * A * A\n",
    "    print(\" The Surface Area of a cube = %.2f \" %Area)\n",
    "cube()"
   ]
  },
  {
   "cell_type": "code",
   "execution_count": 11,
   "metadata": {},
   "outputs": [
    {
     "name": "stdout",
     "output_type": "stream",
     "text": [
      "Height of cylinder: 5\n",
      "Radius of cylinder: 7\n",
      "Surface Area is:  528.0\n"
     ]
    }
   ],
   "source": [
    "# Curved Surface Area of a Cylinder\n",
    "def curved_surface_area_of_a_cylinder():\n",
    "    pi=22/7\n",
    "    height = float(input('Height of cylinder: '))\n",
    "    radian = float(input('Radius of cylinder: '))\n",
    "    surface_area = ((2*pi*radian) * height) + ((pi*radian**2)*2)\n",
    "\n",
    "    print(\"Surface Area is: \", surface_area)\n",
    "curved_surface_area_of_a_cylinder()"
   ]
  },
  {
   "cell_type": "code",
   "execution_count": 12,
   "metadata": {},
   "outputs": [
    {
     "name": "stdout",
     "output_type": "stream",
     "text": [
      "Height of cylinder: 6\n",
      "Radius of cylinder: 8\n",
      "Total Surface Area is: 64.28571428571428\n"
     ]
    }
   ],
   "source": [
    "# Total Surface Area of a Cylinder\n",
    "def total_surface_area_of_a_cylinder():\n",
    "    pi = 22/7\n",
    "    height = float(input('Height of cylinder: '))\n",
    "    radian = float(input('Radius of cylinder: '))\n",
    "    Total_Surface_Area = ((2*pi*radian)) + ((radian+height))\n",
    "\n",
    "    print(\"Total Surface Area is:\", Total_Surface_Area)\n",
    "total_surface_area_of_a_cylinder()"
   ]
  },
  {
   "cell_type": "code",
   "execution_count": 13,
   "metadata": {},
   "outputs": [
    {
     "name": "stdout",
     "output_type": "stream",
     "text": [
      "Height of cylinder: 4\n",
      "Radius of cylinder: 6\n",
      "Volume is:  452.57142857142856\n"
     ]
    }
   ],
   "source": [
    "# Volume of a Cylinder\n",
    "def cylinder():\n",
    "    pi=22/7\n",
    "    height = float(input('Height of cylinder: '))\n",
    "    radian = float(input('Radius of cylinder: '))\n",
    "    volume = pi * radian * radian * height\n",
    "\n",
    "    print(\"Volume is: \", volume)\n",
    "cylinder()"
   ]
  },
  {
   "cell_type": "code",
   "execution_count": 15,
   "metadata": {},
   "outputs": [
    {
     "name": "stdout",
     "output_type": "stream",
     "text": [
      "final velocity: 8\n",
      "initial velocity:5\n",
      "time6\n",
      "Acceleration is:  0.5\n"
     ]
    }
   ],
   "source": [
    "# Acceleration Formula\n",
    "def acceleration():\n",
    "    V = int(input('final velocity: '))\n",
    "    U = int(input('initial velocity:'))\n",
    "    T = int(input('time'))\n",
    "    Acceleration = (V-U)/T\n",
    "\n",
    "    print(\"Acceleration is: \", Acceleration)\n",
    "acceleration()"
   ]
  },
  {
   "cell_type": "code",
   "execution_count": 16,
   "metadata": {},
   "outputs": [
    {
     "name": "stdout",
     "output_type": "stream",
     "text": [
      "mass:6\n",
      "volume:7\n",
      "Density is:  0.8571428571428571\n"
     ]
    }
   ],
   "source": [
    "# Formula for Density\n",
    "def density():\n",
    "    M = int(input('mass:'))\n",
    "    V = int(input('volume:'))\n",
    "    Density = M/V\n",
    "\n",
    "    print(\"Density is: \", Density)\n",
    "density()"
   ]
  },
  {
   "cell_type": "code",
   "execution_count": 17,
   "metadata": {},
   "outputs": [
    {
     "name": "stdout",
     "output_type": "stream",
     "text": [
      "force applied:5\n",
      "total area of the object:7\n",
      "Pressure is:  0.7142857142857143\n"
     ]
    }
   ],
   "source": [
    "# Formula for Pressure\n",
    "def pressure():\n",
    "    F = int(input('force applied:'))\n",
    "    A = int(input('total area of the object:'))\n",
    "    Pressure = F/A\n",
    "\n",
    "    print(\"Pressure is: \", Pressure)\n",
    "pressure()"
   ]
  },
  {
   "cell_type": "code",
   "execution_count": 18,
   "metadata": {},
   "outputs": [
    {
     "name": "stdout",
     "output_type": "stream",
     "text": [
      "mass:5\n",
      "velocity:8\n",
      "Kinetic_Energy is:  160.0\n"
     ]
    }
   ],
   "source": [
    "# Formula for Kinetic energy\n",
    "def kinetic_energy():\n",
    "    M = int(input('mass:'))\n",
    "    V = int(input('velocity:'))\n",
    "    Kinetic_Energy = 1/2*M*V*V\n",
    "\n",
    "    print(\"Kinetic_Energy is: \", Kinetic_Energy)\n",
    "kinetic_energy()"
   ]
  },
  {
   "cell_type": "code",
   "execution_count": 19,
   "metadata": {},
   "outputs": [
    {
     "name": "stdout",
     "output_type": "stream",
     "text": [
      "current:6\n",
      "resistance8\n",
      "Voltage is:  48\n"
     ]
    }
   ],
   "source": [
    "# Formula for Voltage\n",
    "def voltage():\n",
    "    I = int(input('current:'))\n",
    "    R = int(input('resistance'))\n",
    "    Voltage = I*R\n",
    "\n",
    "    print(\"Voltage is: \", Voltage)\n",
    "voltage()"
   ]
  },
  {
   "cell_type": "code",
   "execution_count": null,
   "metadata": {},
   "outputs": [],
   "source": []
  }
 ],
 "metadata": {
  "kernelspec": {
   "display_name": "Python 3",
   "language": "python",
   "name": "python3"
  },
  "language_info": {
   "codemirror_mode": {
    "name": "ipython",
    "version": 3
   },
   "file_extension": ".py",
   "mimetype": "text/x-python",
   "name": "python",
   "nbconvert_exporter": "python",
   "pygments_lexer": "ipython3",
   "version": "3.7.4"
  }
 },
 "nbformat": 4,
 "nbformat_minor": 2
}
